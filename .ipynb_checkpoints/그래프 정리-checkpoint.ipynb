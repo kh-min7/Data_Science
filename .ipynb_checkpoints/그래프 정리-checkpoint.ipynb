{
 "cells": [
  {
   "cell_type": "markdown",
   "id": "322690cf",
   "metadata": {},
   "source": [
    "# 그래프 정리"
   ]
  },
  {
   "cell_type": "markdown",
   "id": "916f4236",
   "metadata": {},
   "source": [
    "## #matplotlib inline\n",
    "\n",
    "import pandas as pd"
   ]
  },
  {
   "cell_type": "markdown",
   "id": "fdb34f57",
   "metadata": {},
   "source": [
    "#### 그래프 구현 \n",
    "\n",
    "A.plot(kind='그래프종류') // 선 그래프는 생략 가능\n",
    "\n",
    "컬럼 하나만 구현\n",
    "\n",
    "A.plot(y='column1')\n",
    "\n",
    "컬럼 여러개 구현\n",
    "\n",
    "A.plot(y=['column1', 'column2'])\n",
    "\n",
    "A[['column1','column2']].plot()\n",
    "\n",
    "선 그래프는 문자에 대해서는 오류"
   ]
  },
  {
   "cell_type": "markdown",
   "id": "3ee56d14",
   "metadata": {},
   "source": [
    "#### 막대 그래프\n",
    "\n",
    "A.plot(kind='bar')\n",
    "\n",
    "막대를 눕히고 싶으면 \n",
    "\n",
    "A.plot(kind='barh')\n",
    "\n",
    "컬럼을 쌓아서 보여줌\n",
    "\n",
    "A.plot(kind='bar', stacked=True)\n",
    "\n",
    "컬럼 하나만 구현\n",
    "\n",
    "A['column1'].plot(kind='bar')"
   ]
  },
  {
   "cell_type": "markdown",
   "id": "fd206c6a",
   "metadata": {},
   "source": [
    "#### 파이 그래프\n",
    "\n",
    "A.plot(kind='pie')\n",
    "\n"
   ]
  },
  {
   "cell_type": "markdown",
   "id": "bdeb7a6c",
   "metadata": {},
   "source": [
    "#### 히스토그램\n",
    "\n",
    "A.plot(kind='hist')\n",
    "\n",
    "막대기 갯수 조정\n",
    "\n",
    "A.plot(kind='hist', bins=막대기 갯수)"
   ]
  },
  {
   "cell_type": "markdown",
   "id": "523e098e",
   "metadata": {},
   "source": [
    "#### 박스 플롯\n",
    "\n",
    "A.plot(kind='box')"
   ]
  },
  {
   "cell_type": "markdown",
   "id": "e02bf07f",
   "metadata": {},
   "source": [
    "#### 산점도\n",
    "\n",
    "A.plot(kind='scatter')\n",
    "\n",
    "상관계수 출력\n",
    "\n",
    "df[['A'.'B']].corr()"
   ]
  }
 ],
 "metadata": {
  "kernelspec": {
   "display_name": "Python 3",
   "language": "python",
   "name": "python3"
  },
  "language_info": {
   "codemirror_mode": {
    "name": "ipython",
    "version": 3
   },
   "file_extension": ".py",
   "mimetype": "text/x-python",
   "name": "python",
   "nbconvert_exporter": "python",
   "pygments_lexer": "ipython3",
   "version": "3.8.8"
  }
 },
 "nbformat": 4,
 "nbformat_minor": 5
}
