{
 "cells": [
  {
   "cell_type": "markdown",
   "id": "662dd694",
   "metadata": {},
   "source": [
    "## 좋은 데이터의 기준"
   ]
  },
  {
   "cell_type": "markdown",
   "id": "a4264559",
   "metadata": {},
   "source": [
    "### * 완결성\n",
    "\n",
    "필수적인 데이터는 모두 기록되어 있어야 함\n",
    "\n",
    "결측값의 유무 확인(NaN)\n",
    "\n",
    "결측값이 존재하지 않아야 완결성이 있는 데이터임.\n"
   ]
  },
  {
   "cell_type": "markdown",
   "id": "aed8af8e",
   "metadata": {},
   "source": [
    "### * 유일성\n",
    "\n",
    "동일한 데이터가 불필요하게 중복되어 있으면 안됨\n",
    "\n"
   ]
  },
  {
   "cell_type": "markdown",
   "id": "04253372",
   "metadata": {},
   "source": [
    "### * 통일성\n",
    "\n",
    "데이터가 동일한 형식으로 저장돼 있어야 함\n",
    "\n"
   ]
  },
  {
   "cell_type": "markdown",
   "id": "889fda5b",
   "metadata": {},
   "source": [
    "### * 정확성\n",
    "\n",
    "데이터가 정확해야 함\n"
   ]
  }
 ],
 "metadata": {
  "kernelspec": {
   "display_name": "Python 3",
   "language": "python",
   "name": "python3"
  },
  "language_info": {
   "codemirror_mode": {
    "name": "ipython",
    "version": 3
   },
   "file_extension": ".py",
   "mimetype": "text/x-python",
   "name": "python",
   "nbconvert_exporter": "python",
   "pygments_lexer": "ipython3",
   "version": "3.8.8"
  }
 },
 "nbformat": 4,
 "nbformat_minor": 5
}
