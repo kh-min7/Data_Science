{
 "cells": [
  {
   "cell_type": "markdown",
   "id": "40aca00e",
   "metadata": {},
   "source": [
    "# numpy 정리"
   ]
  },
  {
   "cell_type": "markdown",
   "id": "290981b8",
   "metadata": {},
   "source": [
    "## import numpy as np"
   ]
  },
  {
   "cell_type": "markdown",
   "id": "cf9e9550",
   "metadata": {},
   "source": [
    "### * numpy 모듈의 array 메소드에 파라미터로 파이썬 리스트를 넘겨주면 numpy array가 리턴됩니다.\n",
    "\n",
    "array1 = np.array([2, 3, 5, 7, 11, 13, 17, 19, 23, 29, 31])\n",
    "    \n",
    "print(array1)\n",
    "\n",
    "-- > [ 2  3  5  7 11 13 17 19 23 29 31]\n",
    "\n"
   ]
  },
  {
   "cell_type": "markdown",
   "id": "394f58f2",
   "metadata": {},
   "source": [
    "### * numpy 모듈의 full 메소드를 사용하면, 모든 값이 같은 numpy array를 생성할 수 있습니다.\n",
    "\n",
    "array1 = np.full(6, 7)\n",
    "    \n",
    "print(array1)\n",
    "\n",
    "-- > [7 7 7 7 7 7]\n",
    "\n"
   ]
  },
  {
   "cell_type": "markdown",
   "id": "0b43bf54",
   "metadata": {},
   "source": [
    "### * 모든 값이 0인 numpy array를 생성하기 위해서는 full 메소드를 사용하면 되겠죠. 하지만 사실은 더 간편한 방법이 있습니다.\n",
    "\n",
    "array1 = np.full(6, 0)\n",
    "\n",
    "array2 = np.zeros(6, dtype=int)\n",
    "    \n",
    "print(array1)\n",
    "\n",
    "print()\n",
    "\n",
    "print(array2)\n",
    "\n",
    "--> [0 0 0 0 0 0]\n",
    "\n",
    "[0 0 0 0 0 0]\n",
    "\n"
   ]
  },
  {
   "cell_type": "markdown",
   "id": "5a8c9993",
   "metadata": {},
   "source": [
    "### * 모든 값이 1인 numpy array를 생성하는 것도 비슷합니다. zeros 메소드 대신 ones를 사용하면 됩니다.\n",
    "\n",
    "array1 = np.full(6, 1)\n",
    "\n",
    "array2 = np.ones(6, dtype=int)\n",
    "    \n",
    "print(array1)\n",
    "\n",
    "print()\n",
    "\n",
    "print(array2)\n",
    "\n",
    "--> [1 1 1 1 1 1]\n",
    "\n",
    "[1 1 1 1 1 1]"
   ]
  },
  {
   "cell_type": "markdown",
   "id": "a77c9bb9",
   "metadata": {},
   "source": [
    "### * 어쩔 때는 임의의 값들로 배열을 생성시키고 싶습니다. 그럴 때는 numpy의 random 모듈의 random 함수를 사용하면 됩니다.\n",
    "\n",
    "numpy 모듈 안에 random이라는 모듈이 있고, 그 안에 또 random이라는 함수가 있는 겁니다!\n",
    "\n",
    "array1 = np.random.random(6)\n",
    "\n",
    "array2 = np.random.random(6)\n",
    "    \n",
    "print(array1)\n",
    "\n",
    "print()\n",
    "\n",
    "print(array2)\n",
    "\n",
    "--> [0.42214929 0.45275673 0.57978413 0.61417065 0.39448558 0.03347601]\n",
    "\n",
    "[0.42521953 0.65091589 0.94045742 0.18138103 0.27150749 0.8450694 ]\n"
   ]
  },
  {
   "cell_type": "markdown",
   "id": "d1af2a47",
   "metadata": {},
   "source": [
    "### * numpy 모듈의 arange 함수를 사용하면 연속된 값들이 담겨 있는 numpy array를 생성할 수 있습니다.\n",
    "\n",
    "arange 함수는 파이썬의 기본 함수인 range와 굉장히 비슷한 원리로 동작하는데요. 파라미터가 1개인 경우, 2개인 경우, 3개인 경우 모두 살펴봅시다.\n",
    "\n",
    "파라미터 1개\n",
    "arange(m)을 하면 0부터 m-1까지의 값들이 담긴 numpy array가 리턴됩니다.\n",
    "\n",
    "array1 = np.arange(6)\n",
    "\n",
    "print(array1)\n",
    "\n",
    "--> [0 1 2 3 4 5]\n",
    "\n",
    "파라미터 2개\n",
    "arange(n, m)을 하면 n부터 m-1까지의 값들이 담긴 numpy array가 리턴됩니다.\n",
    "\n",
    "array1 = np.arange(2, 7)\n",
    "\n",
    "print(array1)\n",
    "\n",
    "--> [2 3 4 5 6]\n",
    "\n",
    "파라미터 3개\n",
    "arange(n, m, s)를 하면 n부터 m-1까지의 값들 중 간격이 s인 값들이 담긴 numpy array가 리턴됩니다.\n",
    "\n",
    "array1 = np.arange(3, 17, 3)\n",
    "\n",
    "print(array1)\n",
    "\n",
    "--> [ 3  6  9 12 15]"
   ]
  },
  {
   "cell_type": "markdown",
   "id": "612975e6",
   "metadata": {},
   "source": [
    "### * 불린 연산\n",
    "\n",
    "booleans = np.array([True, True, False, True, True, False, True, True, True, False, True])\n",
    "\n",
    "np.where(booleans)\n",
    "\n",
    "--> (array([0, 1, 3, 4, 6, 7, 8, 10])\n",
    "\n",
    "where은 True의 위치를 출력해줌.\n",
    "\n",
    "##### 이걸 어디에 쓰는가?\n",
    "\n",
    "example)\n",
    "array1 = np.array([2, 3, 5, 7, 11, 13, 17, 19, 23, 29, 31])\n",
    "\n",
    "array1 > 4\n",
    "\n",
    "--> array([False, False, True, True, True, True, True, True, True, Ture, True])\n",
    "\n",
    "filter = np.where(array1 > 4)\n",
    "\n",
    "filter\n",
    "\n",
    "-- > (array([2, 3, 4, 5, 6, 7, 8, 9, 10])\n",
    "\n",
    "array1[filter]\n",
    "\n",
    "--> array[(5, 7, 11, 13, 17, 19, 23, 29, 31])\n",
    "\n",
    "\n",
    "이렇게 조건에 충족하는 값들만 추출할 수 있음."
   ]
  }
 ],
 "metadata": {
  "kernelspec": {
   "display_name": "Python 3",
   "language": "python",
   "name": "python3"
  },
  "language_info": {
   "codemirror_mode": {
    "name": "ipython",
    "version": 3
   },
   "file_extension": ".py",
   "mimetype": "text/x-python",
   "name": "python",
   "nbconvert_exporter": "python",
   "pygments_lexer": "ipython3",
   "version": "3.8.8"
  }
 },
 "nbformat": 4,
 "nbformat_minor": 5
}
